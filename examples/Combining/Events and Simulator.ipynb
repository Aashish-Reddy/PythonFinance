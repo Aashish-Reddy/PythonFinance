{
 "metadata": {
  "name": "Events and Simulator"
 },
 "nbformat": 3,
 "nbformat_minor": 0,
 "worksheets": [
  {
   "cells": [
    {
     "cell_type": "heading",
     "level": 3,
     "metadata": {},
     "source": [
      "Setup"
     ]
    },
    {
     "cell_type": "code",
     "collapsed": false,
     "input": [
      "import os\n",
      "from datetime import datetime\n",
      "import matplotlib.pyplot as plt\n",
      "from finance.utils import Calculator\n",
      "from finance.utils import DataAccess\n",
      "from finance.utils import ListUtils\n",
      "from finance.events import SampleEvents\n",
      "from finance.events import EventFinder\n",
      "from finance.events import MultipleEvents\n",
      "from finance.sim import MarketSimulator"
     ],
     "language": "python",
     "metadata": {},
     "outputs": [],
     "prompt_number": 6
    },
    {
     "cell_type": "code",
     "collapsed": false,
     "input": [
      "SP500_2012 = ListUtils.SP500(year=2012)\n",
      "da = DataAccess()\n",
      "start = datetime(2011,1,1)\n",
      "end = datetime(2011,12,31)\n",
      "da.download(SP500_2012, start, end)"
     ],
     "language": "python",
     "metadata": {},
     "outputs": [],
     "prompt_number": 3
    },
    {
     "cell_type": "heading",
     "level": 3,
     "metadata": {},
     "source": [
      "Event: Went Below $5 - One event per equity"
     ]
    },
    {
     "cell_type": "code",
     "collapsed": false,
     "input": [
      "evtf = EventFinder()\n",
      "evtf.symbols = SP500_2012\n",
      "evtf.start_date = start\n",
      "evtf.end_date = end\n",
      "evtf.event = SampleEvents.went_below(5)\n",
      "evtf.search()"
     ],
     "language": "python",
     "metadata": {},
     "outputs": [],
     "prompt_number": 8
    },
    {
     "cell_type": "code",
     "collapsed": false,
     "input": [
      "evtf.num_events"
     ],
     "language": "python",
     "metadata": {},
     "outputs": [
      {
       "output_type": "pyout",
       "prompt_number": 9,
       "text": [
        "5"
       ]
      }
     ],
     "prompt_number": 9
    },
    {
     "cell_type": "code",
     "collapsed": false,
     "input": [
      "mevt = MultipleEvents()\n",
      "mevt.list = evtf.list\n",
      "mevt.market = 'SPY'\n",
      "mevt.lookback_days = 20\n",
      "mevt.lookforward_days = 20\n",
      "mevt.estimation_period = 250\n",
      "mevt.run()"
     ],
     "language": "python",
     "metadata": {},
     "outputs": [],
     "prompt_number": 10
    },
    {
     "cell_type": "code",
     "collapsed": false,
     "input": [
      "mevt.plot('car')"
     ],
     "language": "python",
     "metadata": {},
     "outputs": [
      {
       "output_type": "stream",
       "stream": "stderr",
       "text": [
        "/usr/local/lib/python3.2/dist-packages/matplotlib/font_manager.py:1220: UserWarning: findfont: Font family ['monospace'] not found. Falling back to Bitstream Vera Sans\n",
        "  (prop.get_family(), self.defaultFamily[fontext]))\n"
       ]
      },
      {
       "output_type": "display_data",
       "png": "[encoded data removed]"
      }
     ],
     "prompt_number": 11
    },
    {
     "cell_type": "code",
     "collapsed": false,
     "input": [
      "sim = MarketSimulator()\n",
      "sim.field = \"Adj Close\"\n",
      "sim.initial_cash = 1000\n",
      "sim.create_trades_from_event(evtf.list, daysAfter=20)\n",
      "sim.simulate()\n",
      "sim.trades"
     ],
     "language": "python",
     "metadata": {},
     "outputs": [
      {
       "html": [
        "<div style=\"max-height:1000px;max-width:1500px;overflow:auto;\">\n",
        "<table border=\"1\" class=\"dataframe\">\n",
        "  <thead>\n",
        "    <tr style=\"text-align: right;\">\n",
        "      <th></th>\n",
        "      <th>symbol</th>\n",
        "      <th>action</th>\n",
        "      <th>num_of_shares</th>\n",
        "    </tr>\n",
        "  </thead>\n",
        "  <tbody>\n",
        "    <tr>\n",
        "      <td><strong>2011-08-08</strong></td>\n",
        "      <td> HBAN</td>\n",
        "      <td>  Buy</td>\n",
        "      <td> 100</td>\n",
        "    </tr>\n",
        "    <tr>\n",
        "      <td><strong>2011-09-06</strong></td>\n",
        "      <td> HBAN</td>\n",
        "      <td> Sell</td>\n",
        "      <td> 100</td>\n",
        "    </tr>\n",
        "    <tr>\n",
        "      <td><strong>2011-09-22</strong></td>\n",
        "      <td>  GNW</td>\n",
        "      <td>  Buy</td>\n",
        "      <td> 100</td>\n",
        "    </tr>\n",
        "    <tr>\n",
        "      <td><strong>2011-10-03</strong></td>\n",
        "      <td>  AMD</td>\n",
        "      <td>  Buy</td>\n",
        "      <td> 100</td>\n",
        "    </tr>\n",
        "    <tr>\n",
        "      <td><strong>2011-10-20</strong></td>\n",
        "      <td>  GNW</td>\n",
        "      <td> Sell</td>\n",
        "      <td> 100</td>\n",
        "    </tr>\n",
        "    <tr>\n",
        "      <td><strong>2011-10-31</strong></td>\n",
        "      <td>  AMD</td>\n",
        "      <td> Sell</td>\n",
        "      <td> 100</td>\n",
        "    </tr>\n",
        "    <tr>\n",
        "      <td><strong>2011-11-23</strong></td>\n",
        "      <td> HCBK</td>\n",
        "      <td>  Buy</td>\n",
        "      <td> 100</td>\n",
        "    </tr>\n",
        "    <tr>\n",
        "      <td><strong>2011-12-19</strong></td>\n",
        "      <td>  BAC</td>\n",
        "      <td>  Buy</td>\n",
        "      <td> 100</td>\n",
        "    </tr>\n",
        "    <tr>\n",
        "      <td><strong>2011-12-22</strong></td>\n",
        "      <td> HCBK</td>\n",
        "      <td> Sell</td>\n",
        "      <td> 100</td>\n",
        "    </tr>\n",
        "    <tr>\n",
        "      <td><strong>2012-01-19</strong></td>\n",
        "      <td>  BAC</td>\n",
        "      <td> Sell</td>\n",
        "      <td> 100</td>\n",
        "    </tr>\n",
        "  </tbody>\n",
        "</table>\n",
        "</div>"
       ],
       "output_type": "pyout",
       "prompt_number": 13,
       "text": [
        "           symbol action  num_of_shares\n",
        "2011-08-08   HBAN    Buy            100\n",
        "2011-09-06   HBAN   Sell            100\n",
        "2011-09-22    GNW    Buy            100\n",
        "2011-10-03    AMD    Buy            100\n",
        "2011-10-20    GNW   Sell            100\n",
        "2011-10-31    AMD   Sell            100\n",
        "2011-11-23   HCBK    Buy            100\n",
        "2011-12-19    BAC    Buy            100\n",
        "2011-12-22   HCBK   Sell            100\n",
        "2012-01-19    BAC   Sell            100"
       ]
      }
     ],
     "prompt_number": 13
    },
    {
     "cell_type": "code",
     "collapsed": false,
     "input": [
      "sim.portfolio.plot()"
     ],
     "language": "python",
     "metadata": {},
     "outputs": [
      {
       "output_type": "pyout",
       "prompt_number": 14,
       "text": [
        "<matplotlib.axes.AxesSubplot at 0x5f8eb90>"
       ]
      },
      {
       "output_type": "display_data",
       "png": "[encoded data removed]"
      }
     ],
     "prompt_number": 14
    }
   ],
   "metadata": {}
  }
 ]
}