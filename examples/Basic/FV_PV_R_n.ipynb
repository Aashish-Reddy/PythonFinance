{
 "metadata": {
  "name": "FV_PV_R_n"
 },
 "nbformat": 3,
 "nbformat_minor": 0,
 "worksheets": [
  {
   "cells": [
    {
     "cell_type": "code",
     "collapsed": false,
     "input": [
      "from finance.utils import Calculator"
     ],
     "language": "python",
     "metadata": {},
     "outputs": [],
     "prompt_number": 1
    },
    {
     "cell_type": "heading",
     "level": 2,
     "metadata": {},
     "source": [
      "Futuve Value"
     ]
    },
    {
     "cell_type": "markdown",
     "metadata": {},
     "source": [
      "You have $4321.5 USD right now and want to invest at an annual interest rate of 5.6% for 10 years.\n",
      "How much would you have after the 10 years?"
     ]
    },
    {
     "cell_type": "markdown",
     "metadata": {},
     "source": [
      "Compound annually"
     ]
    },
    {
     "cell_type": "code",
     "collapsed": false,
     "input": [
      "Calculator.FV(PV=4321.5, R=0.056, n=10) # m=1 is default"
     ],
     "language": "python",
     "metadata": {},
     "outputs": [
      {
       "output_type": "pyout",
       "prompt_number": 2,
       "text": [
        "7452.014638066742"
       ]
      }
     ],
     "prompt_number": 2
    },
    {
     "cell_type": "markdown",
     "metadata": {},
     "source": [
      "Compound semmiannually"
     ]
    },
    {
     "cell_type": "code",
     "collapsed": false,
     "input": [
      "Calculator.FV(PV=4321.5, R=0.056, n=10, m=2)"
     ],
     "language": "python",
     "metadata": {},
     "outputs": [
      {
       "output_type": "pyout",
       "prompt_number": 4,
       "text": [
        "7507.52540538301"
       ]
      }
     ],
     "prompt_number": 4
    },
    {
     "cell_type": "markdown",
     "metadata": {},
     "source": [
      "Compound quarterly"
     ]
    },
    {
     "cell_type": "code",
     "collapsed": false,
     "input": [
      "Calculator.FV(PV=4321.5, R=0.056, n=10, m=4)"
     ],
     "language": "python",
     "metadata": {},
     "outputs": [
      {
       "output_type": "pyout",
       "prompt_number": 5,
       "text": [
        "7536.20523592885"
       ]
      }
     ],
     "prompt_number": 5
    },
    {
     "cell_type": "markdown",
     "metadata": {},
     "source": [
      "Compoung monthly"
     ]
    },
    {
     "cell_type": "code",
     "collapsed": false,
     "input": [
      "Calculator.FV(PV=4321.5, R=0.056, n=10, m=12)"
     ],
     "language": "python",
     "metadata": {},
     "outputs": [
      {
       "output_type": "pyout",
       "prompt_number": 6,
       "text": [
        "7555.682646463114"
       ]
      }
     ],
     "prompt_number": 6
    },
    {
     "cell_type": "markdown",
     "metadata": {},
     "source": [
      "Compound weekly"
     ]
    },
    {
     "cell_type": "code",
     "collapsed": false,
     "input": [
      "Calculator.FV(PV=4321.5, R=0.056, n=10, m=52)"
     ],
     "language": "python",
     "metadata": {},
     "outputs": [
      {
       "output_type": "pyout",
       "prompt_number": 7,
       "text": [
        "7563.251891342945"
       ]
      }
     ],
     "prompt_number": 7
    },
    {
     "cell_type": "markdown",
     "metadata": {},
     "source": [
      "Compound daily"
     ]
    },
    {
     "cell_type": "code",
     "collapsed": false,
     "input": [
      "Calculator.FV(PV=4321.5, R=0.056, n=10, m=365)"
     ],
     "language": "python",
     "metadata": {},
     "outputs": [
      {
       "output_type": "pyout",
       "prompt_number": 9,
       "text": [
        "7565.206243320116"
       ]
      }
     ],
     "prompt_number": 9
    },
    {
     "cell_type": "heading",
     "level": 2,
     "metadata": {},
     "source": [
      "Present Value"
     ]
    },
    {
     "cell_type": "markdown",
     "metadata": {},
     "source": [
      "You want to have $10.000 USD in 5 years, how much do you need so have right now? (with an annual rate of 3.2%)"
     ]
    },
    {
     "cell_type": "code",
     "collapsed": false,
     "input": [
      "Calculator.PV(FV=10000, n=5, R=0.032)"
     ],
     "language": "python",
     "metadata": {},
     "outputs": [
      {
       "output_type": "pyout",
       "prompt_number": 10,
       "text": [
        "8542.825071288185"
       ]
      }
     ],
     "prompt_number": 10
    },
    {
     "cell_type": "markdown",
     "metadata": {},
     "source": [
      "What happens if we compounding is daily?"
     ]
    },
    {
     "cell_type": "code",
     "collapsed": false,
     "input": [
      "Calculator.PV(FV=10000, n=5, R=0.032, m=365)"
     ],
     "language": "python",
     "metadata": {},
     "outputs": [
      {
       "output_type": "pyout",
       "prompt_number": 11,
       "text": [
        "8521.49765317482"
       ]
      }
     ],
     "prompt_number": 11
    },
    {
     "cell_type": "heading",
     "level": 2,
     "metadata": {},
     "source": [
      "Rate/Return"
     ]
    },
    {
     "cell_type": "markdown",
     "metadata": {},
     "source": [
      "You have $$1.250 and want to have $2.000 in 10 months what montly rate do you need? (Compounded monthly)"
     ]
    },
    {
     "cell_type": "code",
     "collapsed": false,
     "input": [
      "Calculator.R(FV=2000, PV=1250, n=10)"
     ],
     "language": "python",
     "metadata": {},
     "outputs": [
      {
       "output_type": "pyout",
       "prompt_number": 13,
       "text": [
        "0.04812238946895775"
       ]
      }
     ],
     "prompt_number": 13
    },
    {
     "cell_type": "markdown",
     "metadata": {},
     "source": [
      "Testing the previous result"
     ]
    },
    {
     "cell_type": "code",
     "collapsed": false,
     "input": [
      "Calculator.FV(PV=1250, n=10, R=0.04812)"
     ],
     "language": "python",
     "metadata": {},
     "outputs": [
      {
       "output_type": "pyout",
       "prompt_number": 14,
       "text": [
        "1999.9544052399096"
       ]
      }
     ],
     "prompt_number": 14
    },
    {
     "cell_type": "heading",
     "level": 2,
     "metadata": {},
     "source": [
      "Number of Periods"
     ]
    },
    {
     "cell_type": "markdown",
     "metadata": {},
     "source": [
      "Your bank gives you an annual rate of 1.2% and you have $$300. How many years you have to wait to have $500? (compounding monthly)"
     ]
    },
    {
     "cell_type": "code",
     "collapsed": false,
     "input": [
      "Calculator.n(R=0.012, PV=300, FV=500, m=12)"
     ],
     "language": "python",
     "metadata": {},
     "outputs": [
      {
       "output_type": "pyout",
       "prompt_number": 19,
       "text": [
        "42.590082835866575"
       ]
      }
     ],
     "prompt_number": 19
    },
    {
     "cell_type": "markdown",
     "metadata": {},
     "source": [
      "If the compounding is annual"
     ]
    },
    {
     "cell_type": "code",
     "collapsed": false,
     "input": [
      "Calculator.n(R=0.012, PV=300, FV=500)"
     ],
     "language": "python",
     "metadata": {},
     "outputs": [
      {
       "output_type": "pyout",
       "prompt_number": 20,
       "text": [
        "42.82370700861532"
       ]
      }
     ],
     "prompt_number": 20
    },
    {
     "cell_type": "heading",
     "level": 2,
     "metadata": {},
     "source": [
      "Different Rates each period"
     ]
    },
    {
     "cell_type": "markdown",
     "metadata": {},
     "source": [
      "What happens if the interest rate changes each period? First year: 1%, then 2%, then 1.5% and finally 0.98%"
     ]
    },
    {
     "cell_type": "markdown",
     "metadata": {},
     "source": [
      "This can be done step by step"
     ]
    },
    {
     "cell_type": "code",
     "collapsed": false,
     "input": [
      "fv1 = Calculator.FV(PV=1000, R=0.01)\n",
      "fv2 = Calculator.FV(PV=fv1, R=0.02)\n",
      "fv3 = Calculator.FV(PV=fv2, R=0.015)\n",
      "Calculator.FV(PV=fv3, R=0.0098)"
     ],
     "language": "python",
     "metadata": {},
     "outputs": [
      {
       "output_type": "pyout",
       "prompt_number": 25,
       "text": [
        "1055.9003994"
       ]
      }
     ],
     "prompt_number": 25
    },
    {
     "cell_type": "markdown",
     "metadata": {},
     "source": [
      "Or more in one steo"
     ]
    },
    {
     "cell_type": "code",
     "collapsed": false,
     "input": [
      "Calculator.FV(PV=1000, R=[0.01, 0.02, 0.015, 0.0098])"
     ],
     "language": "python",
     "metadata": {},
     "outputs": [
      {
       "output_type": "pyout",
       "prompt_number": 23,
       "text": [
        "1055.9003994"
       ]
      }
     ],
     "prompt_number": 23
    },
    {
     "cell_type": "markdown",
     "metadata": {},
     "source": [
      "The previous was compounded annually but what if it is compounded monthly?"
     ]
    },
    {
     "cell_type": "code",
     "collapsed": false,
     "input": [
      "Calculator.FV(PV=1000, R=[0.01, 0.02, 0.015, 0.0098], m=12)"
     ],
     "language": "python",
     "metadata": {},
     "outputs": [
      {
       "output_type": "pyout",
       "prompt_number": 24,
       "text": [
        "1056.2932237984253"
       ]
      }
     ],
     "prompt_number": 24
    },
    {
     "cell_type": "code",
     "collapsed": false,
     "input": [],
     "language": "python",
     "metadata": {},
     "outputs": []
    }
   ],
   "metadata": {}
  }
 ]
}